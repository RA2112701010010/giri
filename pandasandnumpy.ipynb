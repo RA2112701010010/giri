{
  "nbformat": 4,
  "nbformat_minor": 0,
  "metadata": {
    "colab": {
      "name": "Untitled3.ipynb",
      "provenance": [],
      "collapsed_sections": [],
      "include_colab_link": true
    },
    "kernelspec": {
      "name": "python3",
      "display_name": "Python 3"
    },
    "language_info": {
      "name": "python"
    }
  },
  "cells": [
    {
      "cell_type": "markdown",
      "metadata": {
        "id": "view-in-github",
        "colab_type": "text"
      },
      "source": [
        "<a href=\"https://colab.research.google.com/github/RA2112701010010/giri/blob/main/pandasandnumpy.ipynb\" target=\"_parent\"><img src=\"https://colab.research.google.com/assets/colab-badge.svg\" alt=\"Open In Colab\"/></a>"
      ]
    },
    {
      "cell_type": "code",
      "execution_count": null,
      "metadata": {
        "colab": {
          "base_uri": "https://localhost:8080/"
        },
        "id": "wRupRVvwQSEP",
        "outputId": "075734f9-e97d-4369-b865-1e6b22e1382f"
      },
      "outputs": [
        {
          "output_type": "stream",
          "name": "stdout",
          "text": [
            "Requirement already satisfied: pandas in /usr/local/lib/python3.7/dist-packages (1.1.5)\n",
            "Requirement already satisfied: pytz>=2017.2 in /usr/local/lib/python3.7/dist-packages (from pandas) (2018.9)\n",
            "Requirement already satisfied: python-dateutil>=2.7.3 in /usr/local/lib/python3.7/dist-packages (from pandas) (2.8.2)\n",
            "Requirement already satisfied: numpy>=1.15.4 in /usr/local/lib/python3.7/dist-packages (from pandas) (1.19.5)\n",
            "Requirement already satisfied: six>=1.5 in /usr/local/lib/python3.7/dist-packages (from python-dateutil>=2.7.3->pandas) (1.15.0)\n"
          ]
        }
      ],
      "source": [
        "pip install pandas"
      ]
    },
    {
      "cell_type": "code",
      "source": [
        "import pandas as pd\n",
        "import numpy as np\n",
        "my_dict = { \n",
        "'name' : [\"a\", \"b\", \"c\", \"d\", \"e\"],\n",
        "'age' : [10,20, 30, 40, 50],\n",
        "'designation': [\"CEO\", \"VP\", \"SVP\", \"AM\", \"DEV\"]\n",
        "}\n",
        "df = pd.DataFrame( my_dict, \n",
        "index = [\n",
        "\"First -> \",\n",
        "\"Second -> \", \n",
        "\"Third -> \", \n",
        "\"Fourth -> \", \n",
        "\"Fifth -> \"])\n",
        "series_name = df.name\n",
        "series_age = df.age\n",
        "series_designation = df.designation\n",
        "df_from_series = pd.DataFrame([series_name, series_age])\n",
        "print(df_from_series)"
      ],
      "metadata": {
        "id": "USJ5IpqXQw79",
        "colab": {
          "base_uri": "https://localhost:8080/"
        },
        "outputId": "1229eb8f-b847-410d-aa08-a50da10f436f"
      },
      "execution_count": null,
      "outputs": [
        {
          "output_type": "stream",
          "name": "stdout",
          "text": [
            "     First ->  Second ->  Third ->  Fourth ->  Fifth -> \n",
            "name         a          b         c          d         e\n",
            "age         10         20        30         40        50\n"
          ]
        }
      ]
    }
  ]
}